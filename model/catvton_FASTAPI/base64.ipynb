{
 "cells": [
  {
   "cell_type": "code",
   "execution_count": 1,
   "metadata": {},
   "outputs": [
    {
     "name": "stdout",
     "output_type": "stream",
     "text": [
      "base64_images.json 파일이 성공적으로 생성되었습니다!\n"
     ]
    }
   ],
   "source": [
    "import base64\n",
    "import requests\n",
    "import json\n",
    "\n",
    "def url_to_base64(image_url):\n",
    "    response = requests.get(image_url)\n",
    "    if response.status_code == 200:\n",
    "        return base64.b64encode(response.content).decode('utf-8')\n",
    "\n",
    "def file_to_base64(file_path):   \n",
    "    with open(file_path, \"rb\") as file:\n",
    "        return base64.b64encode(file.read()).decode('utf-8')\n",
    "\n",
    "cloth_url = \"https://image-cdn.trenbe.com/product-images/1701767833183_921c163ad147fe84aff429df04f737ff_0.jpg\"\n",
    "person_path = r\"C:\\Users\\epdgn\\Downloads\\catvton\\VITON-HD\\test\\image\\00035_00.jpg\"\n",
    "\n",
    "cloth_base64 = url_to_base64(cloth_url)\n",
    "person_base64 = file_to_base64(person_path)\n",
    "base64_data = {\n",
    "    \"cloth_base64\": cloth_base64,\n",
    "    \"person_base64\": person_base64}\n",
    "\n",
    "with open(\"base64_images.json\", \"w\", encoding=\"utf-8\") as json_file:\n",
    "    json.dump(base64_data, json_file, ensure_ascii=False, indent=4)\n",
    "\n",
    "print(\"base64_images.json 파일이 성공적으로 생성되었습니다!\")"
   ]
  }
 ],
 "metadata": {
  "kernelspec": {
   "display_name": "catvton",
   "language": "python",
   "name": "python3"
  },
  "language_info": {
   "codemirror_mode": {
    "name": "ipython",
    "version": 3
   },
   "file_extension": ".py",
   "mimetype": "text/x-python",
   "name": "python",
   "nbconvert_exporter": "python",
   "pygments_lexer": "ipython3",
   "version": "3.9.20"
  }
 },
 "nbformat": 4,
 "nbformat_minor": 2
}
